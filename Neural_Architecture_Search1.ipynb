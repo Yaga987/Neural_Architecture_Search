{
  "nbformat": 4,
  "nbformat_minor": 0,
  "metadata": {
    "colab": {
      "provenance": []
    },
    "kernelspec": {
      "name": "python3",
      "display_name": "Python 3"
    },
    "language_info": {
      "name": "python"
    },
    "gpuClass": "standard"
  },
  "cells": [
    {
      "cell_type": "code",
      "source": [
        "import numpy as np\n",
        "import random\n",
        "import pandas as pd\n",
        "from keras.layers import Input, Dense, Dropout, Bidirectional, SimpleRNN, Reshape\n",
        "from keras.models import Model\n",
        "from keras.optimizers import Adam\n",
        "from keras.datasets import mnist\n",
        "from keras.utils import to_categorical\n",
        "from sklearn.model_selection import train_test_split, RandomizedSearchCV\n",
        "from sklearn.preprocessing import LabelEncoder\n",
        "from sklearn.ensemble import RandomForestClassifier\n",
        "from sklearn.metrics import accuracy_score\n",
        "\n",
        "data = pd.read_csv('/content/insurance.csv')"
      ],
      "metadata": {
        "id": "x_RAaNojbenI"
      },
      "execution_count": null,
      "outputs": []
    },
    {
      "cell_type": "code",
      "source": [
        "#sex\n",
        "le = LabelEncoder()\n",
        "le.fit(data.sex.drop_duplicates()) \n",
        "data.sex = le.transform(data.sex)\n",
        "# smoker or not\n",
        "le.fit(data.smoker.drop_duplicates()) \n",
        "data.smoker = le.transform(data.smoker)\n",
        "#region\n",
        "le.fit(data.region.drop_duplicates()) \n",
        "data.region = le.transform(data.region)"
      ],
      "metadata": {
        "id": "_VwW2dL9bkvv"
      },
      "execution_count": null,
      "outputs": []
    },
    {
      "cell_type": "code",
      "source": [
        "data.head()"
      ],
      "metadata": {
        "colab": {
          "base_uri": "https://localhost:8080/",
          "height": 206
        },
        "id": "OHkAeXQebvFX",
        "outputId": "3aba2f3f-d4ba-49eb-c91b-7a59e9f4ed3a"
      },
      "execution_count": null,
      "outputs": [
        {
          "output_type": "execute_result",
          "data": {
            "text/plain": [
              "   age  sex     bmi  children  smoker  region      charges\n",
              "0   19    0  27.900         0       1       3  16884.92400\n",
              "1   18    1  33.770         1       0       2   1725.55230\n",
              "2   28    1  33.000         3       0       2   4449.46200\n",
              "3   33    1  22.705         0       0       1  21984.47061\n",
              "4   32    1  28.880         0       0       1   3866.85520"
            ],
            "text/html": [
              "\n",
              "  <div id=\"df-02a46108-da6e-48a6-b915-841068394383\">\n",
              "    <div class=\"colab-df-container\">\n",
              "      <div>\n",
              "<style scoped>\n",
              "    .dataframe tbody tr th:only-of-type {\n",
              "        vertical-align: middle;\n",
              "    }\n",
              "\n",
              "    .dataframe tbody tr th {\n",
              "        vertical-align: top;\n",
              "    }\n",
              "\n",
              "    .dataframe thead th {\n",
              "        text-align: right;\n",
              "    }\n",
              "</style>\n",
              "<table border=\"1\" class=\"dataframe\">\n",
              "  <thead>\n",
              "    <tr style=\"text-align: right;\">\n",
              "      <th></th>\n",
              "      <th>age</th>\n",
              "      <th>sex</th>\n",
              "      <th>bmi</th>\n",
              "      <th>children</th>\n",
              "      <th>smoker</th>\n",
              "      <th>region</th>\n",
              "      <th>charges</th>\n",
              "    </tr>\n",
              "  </thead>\n",
              "  <tbody>\n",
              "    <tr>\n",
              "      <th>0</th>\n",
              "      <td>19</td>\n",
              "      <td>0</td>\n",
              "      <td>27.900</td>\n",
              "      <td>0</td>\n",
              "      <td>1</td>\n",
              "      <td>3</td>\n",
              "      <td>16884.92400</td>\n",
              "    </tr>\n",
              "    <tr>\n",
              "      <th>1</th>\n",
              "      <td>18</td>\n",
              "      <td>1</td>\n",
              "      <td>33.770</td>\n",
              "      <td>1</td>\n",
              "      <td>0</td>\n",
              "      <td>2</td>\n",
              "      <td>1725.55230</td>\n",
              "    </tr>\n",
              "    <tr>\n",
              "      <th>2</th>\n",
              "      <td>28</td>\n",
              "      <td>1</td>\n",
              "      <td>33.000</td>\n",
              "      <td>3</td>\n",
              "      <td>0</td>\n",
              "      <td>2</td>\n",
              "      <td>4449.46200</td>\n",
              "    </tr>\n",
              "    <tr>\n",
              "      <th>3</th>\n",
              "      <td>33</td>\n",
              "      <td>1</td>\n",
              "      <td>22.705</td>\n",
              "      <td>0</td>\n",
              "      <td>0</td>\n",
              "      <td>1</td>\n",
              "      <td>21984.47061</td>\n",
              "    </tr>\n",
              "    <tr>\n",
              "      <th>4</th>\n",
              "      <td>32</td>\n",
              "      <td>1</td>\n",
              "      <td>28.880</td>\n",
              "      <td>0</td>\n",
              "      <td>0</td>\n",
              "      <td>1</td>\n",
              "      <td>3866.85520</td>\n",
              "    </tr>\n",
              "  </tbody>\n",
              "</table>\n",
              "</div>\n",
              "      <button class=\"colab-df-convert\" onclick=\"convertToInteractive('df-02a46108-da6e-48a6-b915-841068394383')\"\n",
              "              title=\"Convert this dataframe to an interactive table.\"\n",
              "              style=\"display:none;\">\n",
              "        \n",
              "  <svg xmlns=\"http://www.w3.org/2000/svg\" height=\"24px\"viewBox=\"0 0 24 24\"\n",
              "       width=\"24px\">\n",
              "    <path d=\"M0 0h24v24H0V0z\" fill=\"none\"/>\n",
              "    <path d=\"M18.56 5.44l.94 2.06.94-2.06 2.06-.94-2.06-.94-.94-2.06-.94 2.06-2.06.94zm-11 1L8.5 8.5l.94-2.06 2.06-.94-2.06-.94L8.5 2.5l-.94 2.06-2.06.94zm10 10l.94 2.06.94-2.06 2.06-.94-2.06-.94-.94-2.06-.94 2.06-2.06.94z\"/><path d=\"M17.41 7.96l-1.37-1.37c-.4-.4-.92-.59-1.43-.59-.52 0-1.04.2-1.43.59L10.3 9.45l-7.72 7.72c-.78.78-.78 2.05 0 2.83L4 21.41c.39.39.9.59 1.41.59.51 0 1.02-.2 1.41-.59l7.78-7.78 2.81-2.81c.8-.78.8-2.07 0-2.86zM5.41 20L4 18.59l7.72-7.72 1.47 1.35L5.41 20z\"/>\n",
              "  </svg>\n",
              "      </button>\n",
              "      \n",
              "  <style>\n",
              "    .colab-df-container {\n",
              "      display:flex;\n",
              "      flex-wrap:wrap;\n",
              "      gap: 12px;\n",
              "    }\n",
              "\n",
              "    .colab-df-convert {\n",
              "      background-color: #E8F0FE;\n",
              "      border: none;\n",
              "      border-radius: 50%;\n",
              "      cursor: pointer;\n",
              "      display: none;\n",
              "      fill: #1967D2;\n",
              "      height: 32px;\n",
              "      padding: 0 0 0 0;\n",
              "      width: 32px;\n",
              "    }\n",
              "\n",
              "    .colab-df-convert:hover {\n",
              "      background-color: #E2EBFA;\n",
              "      box-shadow: 0px 1px 2px rgba(60, 64, 67, 0.3), 0px 1px 3px 1px rgba(60, 64, 67, 0.15);\n",
              "      fill: #174EA6;\n",
              "    }\n",
              "\n",
              "    [theme=dark] .colab-df-convert {\n",
              "      background-color: #3B4455;\n",
              "      fill: #D2E3FC;\n",
              "    }\n",
              "\n",
              "    [theme=dark] .colab-df-convert:hover {\n",
              "      background-color: #434B5C;\n",
              "      box-shadow: 0px 1px 3px 1px rgba(0, 0, 0, 0.15);\n",
              "      filter: drop-shadow(0px 1px 2px rgba(0, 0, 0, 0.3));\n",
              "      fill: #FFFFFF;\n",
              "    }\n",
              "  </style>\n",
              "\n",
              "      <script>\n",
              "        const buttonEl =\n",
              "          document.querySelector('#df-02a46108-da6e-48a6-b915-841068394383 button.colab-df-convert');\n",
              "        buttonEl.style.display =\n",
              "          google.colab.kernel.accessAllowed ? 'block' : 'none';\n",
              "\n",
              "        async function convertToInteractive(key) {\n",
              "          const element = document.querySelector('#df-02a46108-da6e-48a6-b915-841068394383');\n",
              "          const dataTable =\n",
              "            await google.colab.kernel.invokeFunction('convertToInteractive',\n",
              "                                                     [key], {});\n",
              "          if (!dataTable) return;\n",
              "\n",
              "          const docLinkHtml = 'Like what you see? Visit the ' +\n",
              "            '<a target=\"_blank\" href=https://colab.research.google.com/notebooks/data_table.ipynb>data table notebook</a>'\n",
              "            + ' to learn more about interactive tables.';\n",
              "          element.innerHTML = '';\n",
              "          dataTable['output_type'] = 'display_data';\n",
              "          await google.colab.output.renderOutput(dataTable, element);\n",
              "          const docLink = document.createElement('div');\n",
              "          docLink.innerHTML = docLinkHtml;\n",
              "          element.appendChild(docLink);\n",
              "        }\n",
              "      </script>\n",
              "    </div>\n",
              "  </div>\n",
              "  "
            ]
          },
          "metadata": {},
          "execution_count": 3
        }
      ]
    },
    {
      "cell_type": "code",
      "source": [
        "df = data.copy()"
      ],
      "metadata": {
        "id": "ibBKKGamcRNJ"
      },
      "execution_count": null,
      "outputs": []
    },
    {
      "cell_type": "code",
      "source": [
        "y = df[\"charges\"]\n",
        "x = df.drop(['charges'], axis = 1)"
      ],
      "metadata": {
        "id": "qLuo0RRYbz3a"
      },
      "execution_count": null,
      "outputs": []
    },
    {
      "cell_type": "code",
      "source": [
        "# convert 'charges' to 4 classes\n",
        "y = pd.cut(y, bins=4, labels=[0, 1, 2, 3])"
      ],
      "metadata": {
        "id": "Y_Tbu15ibd28"
      },
      "execution_count": null,
      "outputs": []
    },
    {
      "cell_type": "code",
      "source": [
        "y.shape"
      ],
      "metadata": {
        "colab": {
          "base_uri": "https://localhost:8080/"
        },
        "id": "_ek7LC7BdX8v",
        "outputId": "c046cfb5-8424-4006-f5ee-9435e0d34510"
      },
      "execution_count": null,
      "outputs": [
        {
          "output_type": "execute_result",
          "data": {
            "text/plain": [
              "(1338,)"
            ]
          },
          "metadata": {},
          "execution_count": 7
        }
      ]
    },
    {
      "cell_type": "code",
      "source": [
        "x.shape"
      ],
      "metadata": {
        "colab": {
          "base_uri": "https://localhost:8080/"
        },
        "id": "dIXMpmxjdWRQ",
        "outputId": "6f0a6c4e-437d-4ebb-ddce-c9fd3fb08fbe"
      },
      "execution_count": null,
      "outputs": [
        {
          "output_type": "execute_result",
          "data": {
            "text/plain": [
              "(1338, 6)"
            ]
          },
          "metadata": {},
          "execution_count": 8
        }
      ]
    },
    {
      "cell_type": "code",
      "source": [
        "x.head()"
      ],
      "metadata": {
        "colab": {
          "base_uri": "https://localhost:8080/",
          "height": 206
        },
        "id": "yhnrCPkpb_V4",
        "outputId": "ebcba9e1-9e23-48aa-d8a2-f2ac6efb409f"
      },
      "execution_count": null,
      "outputs": [
        {
          "output_type": "execute_result",
          "data": {
            "text/plain": [
              "   age  sex     bmi  children  smoker  region\n",
              "0   19    0  27.900         0       1       3\n",
              "1   18    1  33.770         1       0       2\n",
              "2   28    1  33.000         3       0       2\n",
              "3   33    1  22.705         0       0       1\n",
              "4   32    1  28.880         0       0       1"
            ],
            "text/html": [
              "\n",
              "  <div id=\"df-ea61116e-48d1-4f02-8d70-7844293b2230\">\n",
              "    <div class=\"colab-df-container\">\n",
              "      <div>\n",
              "<style scoped>\n",
              "    .dataframe tbody tr th:only-of-type {\n",
              "        vertical-align: middle;\n",
              "    }\n",
              "\n",
              "    .dataframe tbody tr th {\n",
              "        vertical-align: top;\n",
              "    }\n",
              "\n",
              "    .dataframe thead th {\n",
              "        text-align: right;\n",
              "    }\n",
              "</style>\n",
              "<table border=\"1\" class=\"dataframe\">\n",
              "  <thead>\n",
              "    <tr style=\"text-align: right;\">\n",
              "      <th></th>\n",
              "      <th>age</th>\n",
              "      <th>sex</th>\n",
              "      <th>bmi</th>\n",
              "      <th>children</th>\n",
              "      <th>smoker</th>\n",
              "      <th>region</th>\n",
              "    </tr>\n",
              "  </thead>\n",
              "  <tbody>\n",
              "    <tr>\n",
              "      <th>0</th>\n",
              "      <td>19</td>\n",
              "      <td>0</td>\n",
              "      <td>27.900</td>\n",
              "      <td>0</td>\n",
              "      <td>1</td>\n",
              "      <td>3</td>\n",
              "    </tr>\n",
              "    <tr>\n",
              "      <th>1</th>\n",
              "      <td>18</td>\n",
              "      <td>1</td>\n",
              "      <td>33.770</td>\n",
              "      <td>1</td>\n",
              "      <td>0</td>\n",
              "      <td>2</td>\n",
              "    </tr>\n",
              "    <tr>\n",
              "      <th>2</th>\n",
              "      <td>28</td>\n",
              "      <td>1</td>\n",
              "      <td>33.000</td>\n",
              "      <td>3</td>\n",
              "      <td>0</td>\n",
              "      <td>2</td>\n",
              "    </tr>\n",
              "    <tr>\n",
              "      <th>3</th>\n",
              "      <td>33</td>\n",
              "      <td>1</td>\n",
              "      <td>22.705</td>\n",
              "      <td>0</td>\n",
              "      <td>0</td>\n",
              "      <td>1</td>\n",
              "    </tr>\n",
              "    <tr>\n",
              "      <th>4</th>\n",
              "      <td>32</td>\n",
              "      <td>1</td>\n",
              "      <td>28.880</td>\n",
              "      <td>0</td>\n",
              "      <td>0</td>\n",
              "      <td>1</td>\n",
              "    </tr>\n",
              "  </tbody>\n",
              "</table>\n",
              "</div>\n",
              "      <button class=\"colab-df-convert\" onclick=\"convertToInteractive('df-ea61116e-48d1-4f02-8d70-7844293b2230')\"\n",
              "              title=\"Convert this dataframe to an interactive table.\"\n",
              "              style=\"display:none;\">\n",
              "        \n",
              "  <svg xmlns=\"http://www.w3.org/2000/svg\" height=\"24px\"viewBox=\"0 0 24 24\"\n",
              "       width=\"24px\">\n",
              "    <path d=\"M0 0h24v24H0V0z\" fill=\"none\"/>\n",
              "    <path d=\"M18.56 5.44l.94 2.06.94-2.06 2.06-.94-2.06-.94-.94-2.06-.94 2.06-2.06.94zm-11 1L8.5 8.5l.94-2.06 2.06-.94-2.06-.94L8.5 2.5l-.94 2.06-2.06.94zm10 10l.94 2.06.94-2.06 2.06-.94-2.06-.94-.94-2.06-.94 2.06-2.06.94z\"/><path d=\"M17.41 7.96l-1.37-1.37c-.4-.4-.92-.59-1.43-.59-.52 0-1.04.2-1.43.59L10.3 9.45l-7.72 7.72c-.78.78-.78 2.05 0 2.83L4 21.41c.39.39.9.59 1.41.59.51 0 1.02-.2 1.41-.59l7.78-7.78 2.81-2.81c.8-.78.8-2.07 0-2.86zM5.41 20L4 18.59l7.72-7.72 1.47 1.35L5.41 20z\"/>\n",
              "  </svg>\n",
              "      </button>\n",
              "      \n",
              "  <style>\n",
              "    .colab-df-container {\n",
              "      display:flex;\n",
              "      flex-wrap:wrap;\n",
              "      gap: 12px;\n",
              "    }\n",
              "\n",
              "    .colab-df-convert {\n",
              "      background-color: #E8F0FE;\n",
              "      border: none;\n",
              "      border-radius: 50%;\n",
              "      cursor: pointer;\n",
              "      display: none;\n",
              "      fill: #1967D2;\n",
              "      height: 32px;\n",
              "      padding: 0 0 0 0;\n",
              "      width: 32px;\n",
              "    }\n",
              "\n",
              "    .colab-df-convert:hover {\n",
              "      background-color: #E2EBFA;\n",
              "      box-shadow: 0px 1px 2px rgba(60, 64, 67, 0.3), 0px 1px 3px 1px rgba(60, 64, 67, 0.15);\n",
              "      fill: #174EA6;\n",
              "    }\n",
              "\n",
              "    [theme=dark] .colab-df-convert {\n",
              "      background-color: #3B4455;\n",
              "      fill: #D2E3FC;\n",
              "    }\n",
              "\n",
              "    [theme=dark] .colab-df-convert:hover {\n",
              "      background-color: #434B5C;\n",
              "      box-shadow: 0px 1px 3px 1px rgba(0, 0, 0, 0.15);\n",
              "      filter: drop-shadow(0px 1px 2px rgba(0, 0, 0, 0.3));\n",
              "      fill: #FFFFFF;\n",
              "    }\n",
              "  </style>\n",
              "\n",
              "      <script>\n",
              "        const buttonEl =\n",
              "          document.querySelector('#df-ea61116e-48d1-4f02-8d70-7844293b2230 button.colab-df-convert');\n",
              "        buttonEl.style.display =\n",
              "          google.colab.kernel.accessAllowed ? 'block' : 'none';\n",
              "\n",
              "        async function convertToInteractive(key) {\n",
              "          const element = document.querySelector('#df-ea61116e-48d1-4f02-8d70-7844293b2230');\n",
              "          const dataTable =\n",
              "            await google.colab.kernel.invokeFunction('convertToInteractive',\n",
              "                                                     [key], {});\n",
              "          if (!dataTable) return;\n",
              "\n",
              "          const docLinkHtml = 'Like what you see? Visit the ' +\n",
              "            '<a target=\"_blank\" href=https://colab.research.google.com/notebooks/data_table.ipynb>data table notebook</a>'\n",
              "            + ' to learn more about interactive tables.';\n",
              "          element.innerHTML = '';\n",
              "          dataTable['output_type'] = 'display_data';\n",
              "          await google.colab.output.renderOutput(dataTable, element);\n",
              "          const docLink = document.createElement('div');\n",
              "          docLink.innerHTML = docLinkHtml;\n",
              "          element.appendChild(docLink);\n",
              "        }\n",
              "      </script>\n",
              "    </div>\n",
              "  </div>\n",
              "  "
            ]
          },
          "metadata": {},
          "execution_count": 9
        }
      ]
    },
    {
      "cell_type": "code",
      "source": [
        "y.head()"
      ],
      "metadata": {
        "colab": {
          "base_uri": "https://localhost:8080/"
        },
        "id": "CQBb9HjNcAZI",
        "outputId": "83ac5f0c-3777-4634-ded5-2071f5d87850"
      },
      "execution_count": null,
      "outputs": [
        {
          "output_type": "execute_result",
          "data": {
            "text/plain": [
              "0    1\n",
              "1    0\n",
              "2    0\n",
              "3    1\n",
              "4    0\n",
              "Name: charges, dtype: category\n",
              "Categories (4, int64): [0 < 1 < 2 < 3]"
            ]
          },
          "metadata": {},
          "execution_count": 10
        }
      ]
    },
    {
      "cell_type": "code",
      "source": [
        "y = to_categorical(y)"
      ],
      "metadata": {
        "id": "vMiuBf0edIqi"
      },
      "execution_count": null,
      "outputs": []
    },
    {
      "cell_type": "code",
      "source": [
        "x_train,x_test,y_train,y_test = train_test_split(x,y, random_state = 0,train_size=0.8)"
      ],
      "metadata": {
        "id": "08TDbXDnbhCQ"
      },
      "execution_count": null,
      "outputs": []
    },
    {
      "cell_type": "code",
      "source": [
        "print(\"Accuracy:\", (accuracy_score(y_test, ((RandomForestClassifier(n_estimators=25).fit(x_train,y_train)).predict(x_test)))))"
      ],
      "metadata": {
        "colab": {
          "base_uri": "https://localhost:8080/"
        },
        "id": "xMwLUgwxQYgw",
        "outputId": "cd611514-57a5-47ee-f875-0e92d69a7bef"
      },
      "execution_count": null,
      "outputs": [
        {
          "output_type": "stream",
          "name": "stdout",
          "text": [
            "Accuracy: 0.8992537313432836\n"
          ]
        }
      ]
    },
    {
      "cell_type": "code",
      "source": [
        "# Define the search space for the Random Forest Classifier\n",
        "rfc_search_space = {\n",
        "    'n_estimators': range(10, 101),\n",
        "    'criterion': ['gini', 'entropy'],\n",
        "    'max_depth': range(2, 51),\n",
        "    'min_samples_split': range(2, 11),\n",
        "    'min_samples_leaf': range(1, 11),\n",
        "    'max_features': ['sqrt', 'log2', None],\n",
        "    'bootstrap': [True, False]\n",
        "}\n",
        "\n",
        "# Initialize a Random Forest Classifier\n",
        "rfc = RandomForestClassifier()\n",
        "\n",
        "# Perform Random Search with cross-validation to find the best hyperparameters\n",
        "random_search = RandomizedSearchCV(estimator=rfc, param_distributions=rfc_search_space, n_iter=100, cv=5)\n",
        "random_search.fit(x_train, y_train)\n",
        "\n",
        "# Initialize a Random Forest Classifier with the best hyperparameters\n",
        "best_params = random_search.best_params_\n",
        "rfc = RandomForestClassifier(**best_params)\n",
        "\n",
        "# Fit the Random Forest Classifier to the training set\n",
        "rfc.fit(x_train, y_train)\n",
        "\n",
        "# Make predictions on the testing set\n",
        "y_pred = rfc.predict(x_test)\n",
        "\n",
        "# Evaluate the accuracy of the Random Forest Classifier\n",
        "accuracy = accuracy_score(y_test, y_pred)\n",
        "print(\"Accuracy:\", accuracy)"
      ],
      "metadata": {
        "colab": {
          "base_uri": "https://localhost:8080/"
        },
        "id": "oCVomhD8Ra9C",
        "outputId": "1cf22bc0-0562-4a79-cf9f-1942068109df"
      },
      "execution_count": null,
      "outputs": [
        {
          "output_type": "stream",
          "name": "stdout",
          "text": [
            "Accuracy: 0.9216417910447762\n"
          ]
        }
      ]
    },
    {
      "cell_type": "code",
      "source": [
        "# Search space\n",
        "layer_choices = [2, 3, 4, 5]\n",
        "unit_choices = [1, 2, 4]\n",
        "dropout_choices = [0.25, 0.5]\n",
        "\n",
        "# Hyperparameters\n",
        "population_size = 250\n",
        "num_generations = 25\n",
        "mutation_rate = 0.25\n",
        "crossover_rate = 0.75"
      ],
      "metadata": {
        "id": "oF9F2rxLbreX"
      },
      "execution_count": null,
      "outputs": []
    },
    {
      "cell_type": "code",
      "execution_count": null,
      "metadata": {
        "id": "D2z6fmxmiKRs"
      },
      "outputs": [],
      "source": [
        "def generate_random_architecture():\n",
        "    num_layers = random.choice(layer_choices)\n",
        "    architecture = []\n",
        "    for i in range(num_layers):\n",
        "        units = random.choice(unit_choices)\n",
        "        dropout = random.choice(dropout_choices)\n",
        "        layer = [units, dropout]\n",
        "        architecture.append(layer)\n",
        "    return architecture\n",
        "\n",
        "def create_model(architecture):\n",
        "    input_layer = Input(shape=(6,))\n",
        "    x = input_layer\n",
        "    for layer in architecture:\n",
        "        units = layer[0]\n",
        "        dropout = layer[1]\n",
        "        x = Dense(units, activation='relu')(x)\n",
        "        x = Dropout(dropout)(x)\n",
        "    output_layer = Dense(4, activation='softmax')(x)\n",
        "    model = Model(inputs=input_layer, outputs=output_layer)\n",
        "    return model\n",
        "\n",
        "def evaluate_architecture(architecture, X_train, y_train, X_val, y_val):\n",
        "    model = create_model(architecture)\n",
        "    model.compile(optimizer=Adam(learning_rate=0.001), loss='categorical_crossentropy', metrics=['accuracy'])\n",
        "    model.fit(X_train, y_train, batch_size=256, epochs=10, validation_data=(X_val, y_val), verbose=0, shuffle=True)\n",
        "    _, accuracy = model.evaluate(X_val, y_val, verbose=0)\n",
        "    return accuracy\n",
        "\n",
        "def create_new_population(population, fitness_scores):\n",
        "    sum_fitness = sum(fitness_scores)\n",
        "    fitness_probs = [fitness_score / sum_fitness for fitness_score in fitness_scores]\n",
        "    new_population = []\n",
        "    for i in range(len(population)):\n",
        "        parent1_idx = np.random.choice(len(population), p=fitness_probs)\n",
        "        parent2_idx = np.random.choice(len(population), p=fitness_probs)\n",
        "        parent1 = population[parent1_idx]\n",
        "        parent2 = population[parent2_idx]\n",
        "        if random.random() < crossover_rate:\n",
        "            crossover_point = random.randint(1, len(parent1)-1)\n",
        "            child1 = parent1[:crossover_point] + parent2[crossover_point:]\n",
        "            child2 = parent2[:crossover_point] + parent1[crossover_point:]\n",
        "            children = [child1, child2]\n",
        "        else:\n",
        "            children = [parent1, parent2]\n",
        "        for child in children:\n",
        "            for i in range(len(child)):\n",
        "                if random.random() < mutation_rate:\n",
        "                    child[i][0] = random.choice(unit_choices)\n",
        "                    child[i][1] = random.choice(dropout_choices)\n",
        "            new_population.append(child)\n",
        "    return new_population"
      ]
    },
    {
      "cell_type": "code",
      "source": [
        "# Run GA to search for best architecture\n",
        "best_architecture = None\n",
        "best_fitness = 0.0\n",
        "population = [generate_random_architecture() for _ in range(population_size)]\n",
        "for generation in range(num_generations):\n",
        "    fitness_scores = [evaluate_architecture(architecture, x_train, y_train, x_test, y_test) for architecture in population]\n",
        "    best_architecture_idx = np.argmax(fitness_scores)\n",
        "    if fitness_scores[best_architecture_idx] > best_fitness:\n",
        "        best_architecture = population[best_architecture_idx]\n",
        "        best_fitness = fitness_scores[best_architecture_idx]\n",
        "    print(f\"Generation {generation + 1} out of {num_generations}: Best Fitness = {best_fitness:.4f}\")\n",
        "    population = create_new_population(population, fitness_scores)"
      ],
      "metadata": {
        "id": "FXkJZsYabA4A",
        "colab": {
          "base_uri": "https://localhost:8080/"
        },
        "outputId": "e05637d4-e4e5-41ce-d434-630cfb25630f"
      },
      "execution_count": null,
      "outputs": [
        {
          "output_type": "stream",
          "name": "stdout",
          "text": [
            "Generation 1 out of 25: Best Fitness = 0.7463\n",
            "Generation 2 out of 25: Best Fitness = 0.7463\n",
            "Generation 3 out of 25: Best Fitness = 0.7463\n"
          ]
        }
      ]
    }
  ]
}